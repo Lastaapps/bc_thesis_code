{
 "cells": [
  {
   "cell_type": "markdown",
   "id": "3f767cbd",
   "metadata": {},
   "source": [
    "# Defense"
   ]
  },
  {
   "cell_type": "markdown",
   "id": "178b5789",
   "metadata": {},
   "source": [
    "Is it typically the case that the color classes in a NAC-coloring are balanced with respect to the two colors (especially when the graph has only few NAC-colorings)?\n",
    "Or does it often happen (in practice) that there exists some NAC-coloring that is largely biased towards one of the two colors?"
   ]
  },
  {
   "cell_type": "code",
   "execution_count": 1,
   "id": "3a4fea18",
   "metadata": {},
   "outputs": [],
   "source": [
    "from typing import *\n",
    "from dataclasses import dataclass\n",
    "from collections import defaultdict, deque\n",
    "import random\n",
    "import importlib\n",
    "from random import Random\n",
    "from enum import Enum\n",
    "\n",
    "import matplotlib.pyplot as plt\n",
    "import matplotlib_inline.backend_inline as backend_inline\n",
    "from matplotlib.backends import backend_agg\n",
    "from matplotlib.figure import Figure\n",
    "from matplotlib.ticker import MaxNLocator\n",
    "\n",
    "import numpy as np\n",
    "import pandas as pd\n",
    "import networkx as nx\n",
    "import os\n",
    "import time\n",
    "import datetime\n",
    "import signal\n",
    "import itertools\n",
    "import base64\n",
    "\n",
    "from tqdm import tqdm\n",
    "\n",
    "import nac as nac\n",
    "from nac import MonochromaticClassType\n",
    "\n",
    "import benchmarks\n",
    "from benchmarks import datasets\n",
    "from benchmarks import generators\n",
    "import benchmarks.notebook_utils\n",
    "from benchmarks.notebook_utils import *\n",
    "\n",
    "seed=42\n",
    "TEST=False\n",
    "BENCHMARKS=False\n",
    "ANALYTICS=True\n",
    "SEARCH=False\n"
   ]
  },
  {
   "cell_type": "code",
   "execution_count": null,
   "id": "68006483",
   "metadata": {},
   "outputs": [],
   "source": [
    "importlib.reload(nac)\n",
    "importlib.reload(benchmarks.datasets)\n",
    "importlib.reload(benchmarks.generators)\n",
    "importlib.reload(benchmarks)\n",
    "importlib.reload(benchmarks.notebook_utils)\n",
    "\n",
    "_BENCH_FILE_START_V2 = \"bench_res_v2\"\n",
    "_BENCH_FILE_START_V3 = \"bench_res_v3\"\n",
    "_BENCH_FILE_START_V4 = \"bench_res_v4\"\n",
    "\n",
    "OUTPUT_DIR = os.path.join(\"benchmarks\", \"runs\")\n",
    "os.makedirs(OUTPUT_DIR, exist_ok=True)\n",
    "\n",
    "benchmarks.notebook_utils.OUTPUT_DIR = OUTPUT_DIR\n",
    "benchmarks.notebook_utils.OUTPUT_BENCH_FILE_START = _BENCH_FILE_START_V4\n",
    "benchmarks.notebook_utils.OUTPUT_VERBOSE = False"
   ]
  },
  {
   "cell_type": "code",
   "execution_count": null,
   "id": "d4a2f698",
   "metadata": {},
   "outputs": [],
   "source": [
    "from nac import NAC_colorings, canonical_NAC_coloring\n",
    "import numpy as np"
   ]
  },
  {
   "cell_type": "code",
   "execution_count": null,
   "id": "2b056b8f",
   "metadata": {},
   "outputs": [],
   "source": [
    "df = load_records()"
   ]
  },
  {
   "cell_type": "code",
   "execution_count": null,
   "id": "870b02c8",
   "metadata": {},
   "outputs": [],
   "source": [
    "def evaluate(df: pd.DataFrame, sample_size: int = 1000, random_state: int = 42) -> dict[nx.Graph, list[Tuple[Container, Container]]]:\n",
    "    df = df.sample(sample_size, random_state=random_state)\n",
    "    res = dict()\n",
    "    for graph in tqdm(df['graph']):\n",
    "        graph = graph_from_id(graph)\n",
    "        res[graph] = list(NAC_colorings(graph))\n",
    "    return res"
   ]
  },
  {
   "cell_type": "code",
   "execution_count": null,
   "id": "8f5a9db6",
   "metadata": {},
   "outputs": [],
   "source": [
    "def analyze(data: list[list[tuple[Container, Container]]]) -> pd.DataFrame:\n",
    "    ratios: list[tuple[float, float]] = []\n",
    "    for record in data:\n",
    "        colorings = set(canonical_NAC_coloring(col) for col in record)\n",
    "        item_weight = 1/len(colorings)\n",
    "        for col in colorings:\n",
    "            if len(col[0]) > len(col[1]):\n",
    "                col = (col[1], col[0])\n",
    "            ratios.append((len(col[0]) / len(col[1]), item_weight))\n",
    "    df = pd.DataFrame(ratios, columns=[\"ratio\", \"weight\"])\n",
    "    df.sort_values(by=\"ratio\", inplace=True)\n",
    "    return df"
   ]
  },
  {
   "cell_type": "code",
   "execution_count": null,
   "id": "55e5c369",
   "metadata": {},
   "outputs": [],
   "source": [
    "def showcase(df: pd.DataFrame) -> None:\n",
    "    print(\"Count:\", len(df))\n",
    "    display(df[\"ratio\"].describe())\n",
    "    print(\"Weighted average:\", np.average(df[\"ratio\"], weights=df[\"weight\"]))\n",
    "    df[\"ratio\"].hist(bins=20)"
   ]
  },
  {
   "cell_type": "markdown",
   "id": "e7166572",
   "metadata": {},
   "source": [
    "## Minimally rigid"
   ]
  },
  {
   "cell_type": "code",
   "execution_count": null,
   "id": "9d8787e9",
   "metadata": {},
   "outputs": [],
   "source": [
    "min_rigid = df.query(\"dataset == 'minimally_rigid_random' and nac_all_coloring_no > 0 and vertex_no >= 18\")\n",
    "len(min_rigid)"
   ]
  },
  {
   "cell_type": "code",
   "execution_count": null,
   "id": "c1224048",
   "metadata": {},
   "outputs": [],
   "source": [
    "min_rigid_colorings = evaluate(min_rigid)"
   ]
  },
  {
   "cell_type": "code",
   "execution_count": null,
   "id": "9b510dc0",
   "metadata": {},
   "outputs": [],
   "source": [
    "min_ser = analyze(min_rigid_colorings.values())"
   ]
  },
  {
   "cell_type": "code",
   "execution_count": null,
   "id": "fa0cb052",
   "metadata": {},
   "outputs": [],
   "source": [
    "showcase(min_ser)"
   ]
  },
  {
   "cell_type": "markdown",
   "id": "715f57c9",
   "metadata": {},
   "source": [
    "## Globally rigid"
   ]
  },
  {
   "cell_type": "markdown",
   "id": "6330e657",
   "metadata": {},
   "source": [
    "### Single NAC-coloring"
   ]
  },
  {
   "cell_type": "code",
   "execution_count": null,
   "id": "f73f07fe",
   "metadata": {},
   "outputs": [],
   "source": [
    "glob_rigid_single = df.query(\"dataset == 'globally_rigid' and nac_all_coloring_no > 0 and vertex_no >= 18 and nac_all_coloring_no <= 2\")\n",
    "len(glob_rigid_single)"
   ]
  },
  {
   "cell_type": "code",
   "execution_count": null,
   "id": "1a48c5fc",
   "metadata": {},
   "outputs": [],
   "source": [
    "glob_rigid_single_colorings = evaluate(glob_rigid_single)"
   ]
  },
  {
   "cell_type": "code",
   "execution_count": null,
   "id": "662a2e5a",
   "metadata": {},
   "outputs": [],
   "source": [
    "glob_single_ser = analyze(glob_rigid_single_colorings.values())"
   ]
  },
  {
   "cell_type": "code",
   "execution_count": null,
   "id": "7131f06f",
   "metadata": {},
   "outputs": [],
   "source": [
    "showcase(glob_single_ser)"
   ]
  },
  {
   "cell_type": "markdown",
   "id": "5035f5f5",
   "metadata": {},
   "source": [
    "### Few NAC-coloring"
   ]
  },
  {
   "cell_type": "code",
   "execution_count": null,
   "id": "015e9c94",
   "metadata": {},
   "outputs": [],
   "source": [
    "glob_rigid_few = df.query(\"dataset == 'globally_rigid' and nac_all_coloring_no > 0 and vertex_no >= 18 and nac_all_coloring_no <= 20\")\n",
    "len(glob_rigid_few)"
   ]
  },
  {
   "cell_type": "code",
   "execution_count": null,
   "id": "318320c1",
   "metadata": {},
   "outputs": [],
   "source": [
    "glob_rigid_few_colorings = evaluate(glob_rigid_few)"
   ]
  },
  {
   "cell_type": "code",
   "execution_count": null,
   "id": "8bebb040",
   "metadata": {},
   "outputs": [],
   "source": [
    "glob_few_ser = analyze(glob_rigid_few_colorings.values())"
   ]
  },
  {
   "cell_type": "code",
   "execution_count": null,
   "id": "927d785d",
   "metadata": {},
   "outputs": [],
   "source": [
    "showcase(glob_few_ser)"
   ]
  }
 ],
 "metadata": {
  "kernelspec": {
   "display_name": ".venv",
   "language": "python",
   "name": "python3"
  },
  "language_info": {
   "codemirror_mode": {
    "name": "ipython",
    "version": 3
   },
   "file_extension": ".py",
   "mimetype": "text/x-python",
   "name": "python",
   "nbconvert_exporter": "python",
   "pygments_lexer": "ipython3",
   "version": "3.12.8"
  }
 },
 "nbformat": 4,
 "nbformat_minor": 5
}
