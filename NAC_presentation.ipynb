{
 "cells": [
  {
   "cell_type": "markdown",
   "metadata": {},
   "source": [
    "# NAC coloring search\n",
    "\n",
    "In this notebook we provide utilities to run benchmarks, analyze results and experiment with our code.\n",
    "As the package is still in development, not all parts must be user-friendly, still we try to provide good enough description and usable abstraction.\n",
    "\n",
    "First we provide class for loading graph classes,\n",
    "then a simple function for measuring performance of listing all NAC-colorings on a graph class.\n",
    "Then we define how strategies are passed to our algorithm,\n",
    "and after a framework for defining and running benchmarks.\n",
    "Lastly, we provide tools for quick results analysis.\n",
    "\n",
    "Many utility functions were moved from the notebook\n",
    "into a separate file to improve clarity, see `benchmarks/notebook_utils.py`.\n",
    "\n",
    "Make sure the `nac` directory is in your working directory, and that you installed `requierements.txt` into your virtual environment."
   ]
  },
  {
   "cell_type": "code",
   "execution_count": null,
   "metadata": {},
   "outputs": [],
   "source": [
    "from typing import *\n",
    "from dataclasses import dataclass\n",
    "from collections import defaultdict, deque\n",
    "import random\n",
    "import importlib\n",
    "from random import Random\n",
    "from enum import Enum\n",
    "\n",
    "import matplotlib.pyplot as plt\n",
    "import matplotlib_inline.backend_inline as backend_inline\n",
    "from matplotlib.backends import backend_agg\n",
    "from matplotlib.figure import Figure\n",
    "from matplotlib.ticker import MaxNLocator\n",
    "\n",
    "import numpy as np\n",
    "import pandas as pd\n",
    "import networkx as nx\n",
    "import os\n",
    "import time\n",
    "import datetime\n",
    "import signal\n",
    "import itertools\n",
    "import base64\n",
    "\n",
    "from tqdm import tqdm\n",
    "\n",
    "import nac as nac\n",
    "import nac.util\n",
    "from nac import MonochromaticClassType\n",
    "importlib.reload(nac)\n",
    "importlib.reload(nac.util)\n",
    "\n",
    "import benchmarks\n",
    "from benchmarks import dataset\n",
    "import benchmarks.notebook_utils\n",
    "from benchmarks.notebook_utils import *\n",
    "importlib.reload(benchmarks)\n",
    "importlib.reload(dataset)\n",
    "importlib.reload(benchmarks.notebook_utils)\n",
    "\n",
    "seed=42"
   ]
  },
  {
   "cell_type": "markdown",
   "metadata": {},
   "source": [
    "### Benchmarks directory\n",
    "\n",
    "You can either choose to use our precomputed results or run the benchmarks yourself.\n",
    "The algorithms take usually tens or hunderes of miliseconds to run,\n",
    "but there is plenty of graphs and strategies combinations, so times add up."
   ]
  },
  {
   "cell_type": "code",
   "execution_count": null,
   "metadata": {},
   "outputs": [],
   "source": [
    "OUTPUT_DIR_PRECOMPUTED = os.path.join(\"benchmarks\", \"precomputed\")\n",
    "OUTPUT_DIR_LOCAL = os.path.join(\"benchmarks\", \"local\")\n",
    "\n",
    "benchmarks.notebook_utils.OUTPUT_DIR = OUTPUT_DIR_PRECOMPUTED\n",
    "os.makedirs(benchmarks.notebook_utils.OUTPUT_DIR, exist_ok=True)"
   ]
  },
  {
   "cell_type": "markdown",
   "metadata": {},
   "source": [
    "# Loading graph classes\n",
    "\n",
    "In this section we load graphs that can be later used for running benchmarks.\n",
    "The graphs are not in any specified order and they differ in size ranges.\n",
    "Graphs are stored in the `graph6` format in the `graphs_store` directory."
   ]
  },
  {
   "cell_type": "code",
   "execution_count": null,
   "metadata": {},
   "outputs": [],
   "source": [
    "class Graphs:\n",
    "    \"\"\"\n",
    "    Randomly generated minimally rigid (Laman) graphs of various sizes\n",
    "    \"\"\"\n",
    "    minimally_rigid_random = LazyList(lambda: dataset.load_laman_random_graphs())\n",
    "    \"\"\"\n",
    "    Graphs with no 3 nor 4 cycles up to 42 vertices\n",
    "    \"\"\"\n",
    "    no_3_nor_4_cycles = LazyList(lambda: dataset.load_no_3_nor_4_cycle_graphs())\n",
    "    \"\"\"\n",
    "    Graphs generated according to yet unpublished formula that guaranties that these graphs should either have none or small number of NAC-colorings\n",
    "    \"\"\"\n",
    "    sparse_with_few_colorings = LazyList(lambda: dataset.load_sparse_with_few_colorings_graphs())\n",
    "    \"\"\"\n",
    "    Randomly generated globally rigid graphs\n",
    "    \"\"\"\n",
    "    globally_rigid = LazyList(lambda: dataset.load_globally_rigid_graphs())\n",
    "    \"\"\"\n",
    "    Random graphs that we found that have no NAC-coloring and more than one triangle-connected component\n",
    "    \"\"\"\n",
    "    no_NAC_coloring = LazyList(lambda: dataset.load_no_NAC_coloring_graphs_gathered())\n",
    "\n",
    "    \"\"\"\n",
    "    Loads all the minimally rigid (Laman) graphs of the given size, pregenerated files allow the range of [5, 11]\n",
    "    \"\"\"\n",
    "    def load_all_minimally_rigid(vertex_no: int) -> List[nx.Graph]:\n",
    "        return list(dataset.load_laman_all(vertices_no=vertex_no))"
   ]
  },
  {
   "cell_type": "markdown",
   "metadata": {},
   "source": [
    "# Running on all minimally rigid graphs\n",
    "\n",
    "This is a function that can be used for benchmarking of finding all the NAC-colorings of some graph class.\n",
    "This function can provide only total times, not timer per graph. That is job of the following benchmarks."
   ]
  },
  {
   "cell_type": "code",
   "execution_count": null,
   "metadata": {},
   "outputs": [],
   "source": [
    "def benchmarks_all_NAC_coloring_on_class(\n",
    "    graphs: List[nx.Graph],\n",
    "    rounds: int,\n",
    "    strategy: str,\n",
    "    use_monochromatic_classes: bool,\n",
    "    use_has_coloring_check: bool = False,\n",
    ") -> float:\n",
    "    start = time.time()\n",
    "    monochromatic_class_type=nac.MonochromaticClassType.MONOCHROMATIC if use_monochromatic_classes else nac.MonochromaticClassType.TRIANGLES\n",
    "\n",
    "    for _ in range(rounds):\n",
    "        for graph in graphs:\n",
    "            # the fastest way to collect an iterable in Python\n",
    "            deque(nac.NAC_colorings(\n",
    "                graph,\n",
    "                relabel_strategy=\"none\",\n",
    "                algorithm=strategy,\n",
    "                monochromatic_class_type=monochromatic_class_type,\n",
    "                use_has_coloring_check=use_has_coloring_check,\n",
    "            ), 0)\n",
    "\n",
    "    return (time.time() - start) / rounds\n",
    "\n",
    "def benchmarks_all_NAC_coloring_minimally_rigid(\n",
    "    vertex_no: int,\n",
    "    rounds: int,\n",
    "):\n",
    "    graphs = list(Graphs.load_all_minimally_rigid(vertex_no))\n",
    "    for strategy, use_monochromatic_classes in [\n",
    "        ('naive', False),\n",
    "        ('naive', True),\n",
    "        ('cycles', True),\n",
    "        ('subgraphs-linear-neighbors_degree-4', True),\n",
    "    ]:\n",
    "        print(f\"[{vertex_no:2}]: # {strategy} (monochrom: {use_monochromatic_classes})\")\n",
    "        runtime = benchmarks_all_NAC_coloring_on_class(\n",
    "            graphs=graphs,\n",
    "            rounds=rounds,\n",
    "            strategy=strategy,\n",
    "            use_monochromatic_classes=use_monochromatic_classes,\n",
    "        )\n",
    "        print(f\"[{vertex_no:2}]: > {runtime:.3f} s\")\n",
    "\n",
    "if False:\n",
    "    for n in range(5, 11+1):\n",
    "        benchmarks_all_NAC_coloring_minimally_rigid(\n",
    "            vertex_no=n,\n",
    "            rounds=3 if n <= 10 else 1,\n",
    "        )"
   ]
  },
  {
   "cell_type": "markdown",
   "metadata": {},
   "source": [
    "# Storing and loading benchmark results\n",
    "\n",
    "Each row represents performance of a graph with a given strategy.\n",
    "The difference between the first and all variant is that\n",
    "in the all variants we search for all NAC-colorings,\n",
    "but in the first variant we search only.\n",
    "\n",
    "The export CSV columns are:\n",
    "- `timestamp` - date time of the test in UTC\n",
    "- `graph` - base64 encoded bytes of graph6 encoded graph\n",
    "- `dataset` - class of the graph, `minimally_ridig_random`, `no_3_nor_4_cycles`, `globally_rigid`, ...\n",
    "- `vertex_no` - the number of vertices of the graph\n",
    "- `edge_no` - the number of edges of the graph\n",
    "- `triangle_components_no` - the number of triangle components of the graph\n",
    "- `monochromatic_classes_no` - the number of monochromatic classes of the graph\n",
    "- `relabel` - relabel strategy (relabels vertices before the main algorithm is run, here we have only `none` or `random`)\n",
    "- `split` - splitting strategy\n",
    "- `merge` - merging strategy\n",
    "- `subgraph_size` - the target initial size of subgraphs in monochromatic components\n",
    "- `used_monochromatic_classes` - if monochromatic classes were used to run the test, `False` means triangle components were used\n",
    "- `nac_any_finished` - if any of the tests finished in time\n",
    "- `nac_{first|all}_coloring_no` - the number of NAC-colorings of the graph, for the first variant limited to 1\n",
    "- `nac_{first|all}_mean_time` - the time required to find first/all NAC-colorings in milliseconds\n",
    "- `nac_{first|all}_rounds` - the number of rounds used to run the benchmarks\n",
    "- `nac_{first|all}_check_cycle_mask` - the number of cycle mask checks performed\n",
    "- `nac_{first|all}_check_is_NAC` - the number of `IsNACColorng` checks performed\n",
    "- `nac_{first|all}_merge` - the number of merges performed\n",
    "- `nac_{first|all}_merge_no_common_vertex` - the number of merges with no common vertex (these are simple to compute, but produce large no of colorings slowing down the algorithm)"
   ]
  },
  {
   "cell_type": "code",
   "execution_count": null,
   "metadata": {},
   "outputs": [],
   "source": [
    "display(COLUMNS)"
   ]
  },
  {
   "cell_type": "markdown",
   "metadata": {},
   "source": [
    "# Strategies\n",
    "\n",
    "The interface of the NAC-coloring search function looks like this:\n",
    "```python\n",
    "def NAC_colorings(\n",
    "    graph: nx.Graph,\n",
    "    algorithm: str = \"subgraphs\",\n",
    "    relabel_strategy: str = \"none\",\n",
    "    monochromatic_class_type: MonochromaticClassType = MonochromaticClassType.MONOCHROMATIC,\n",
    "    use_decompositions: bool = True,\n",
    "    use_has_coloring_check: bool = True,\n",
    "    seed: int | None = None,\n",
    ") -> Iterable[NACColoring]:\n",
    "```\n",
    "\n",
    "The relabel strategy is either `\"none\"` or `\"random\"`.\n",
    "`MonochromaticClassType` types are `MONOCHROMATIC` that creates monochromatic classes as described in the paper,\n",
    "`TRIANGLES` that finds only triangle connected components and\n",
    "`EDGES` that uses no monochromatic classes optimization.\n",
    "The `use_decompositions` switch is responsible for enabling checks for articulation points and related decomposition into blocks.\n",
    "The `use_has_coloring_check` runs some polynomial checks if a NAC-coloring can exist. If not, the whole search is skipped.\n",
    "`seed` is used by strategies internally as only pseudo random number generators are used.\n",
    "\n",
    "The most important field is the `algorithm` field.\n",
    "Possible values are:\n",
    "- `\"naive\"` - runs naive algorithm\n",
    "- `\"cycles\"` - runs naive algorithm improved by cycles detection\n",
    "- `\"subgraphs\"` - runs so far optimal algorithm for larger graphs based on subgraph decomposition\n",
    "- `\"subgraphs-{merge_strategy}-{split_strategy}-{size_of_subgraphs}\"` - runs the specified strategy combination with subgraph decomposition\n",
    "\n",
    "In our code strategies are represented as four-tupples."
   ]
  },
  {
   "cell_type": "code",
   "execution_count": null,
   "metadata": {},
   "outputs": [],
   "source": [
    "class Promising:\n",
    "    RELABELING = [\n",
    "        \"none\",\n",
    "        # random strategy is disabled as we use randomly generated graphs\n",
    "        # \"random\",\n",
    "    ]\n",
    "    SPLITTING = [\n",
    "        \"none\",\n",
    "        \"neighbors\",\n",
    "        \"neighbors_degree\",\n",
    "    ]\n",
    "    MERGE = [\n",
    "        \"linear\",\n",
    "        \"shared_vertices\",\n",
    "    ]\n",
    "    # This is not optimal for every graph, but does not hurt performance significantly\n",
    "    SIZES = [6]\n",
    "\n",
    "    strategies = list(itertools.product(\n",
    "        RELABELING, SPLITTING, MERGE, SIZES,\n",
    "    ))\n",
    "print(f\"Strategies: {len(Promising.strategies)}\")"
   ]
  },
  {
   "cell_type": "code",
   "execution_count": null,
   "metadata": {},
   "outputs": [],
   "source": [
    "def create_subgraph_strategy(param: Tuple[str, str, str, int]) -> Tuple[str, str]:\n",
    "    relabel, split, merge, subgraph = param\n",
    "    algo_name = \"subgraphs-{}-{}-{}\".format( merge, split, subgraph)\n",
    "    return (relabel, algo_name)"
   ]
  },
  {
   "cell_type": "markdown",
   "metadata": {},
   "source": [
    "In case you want to play with the notebook we predefined some strategies as example."
   ]
  },
  {
   "cell_type": "code",
   "execution_count": null,
   "metadata": {},
   "outputs": [],
   "source": [
    "STRATEGY_NONE_LINEAR = create_subgraph_strategy((\"\", \"none\", \"linear\", 6))[1]\n",
    "STRATEGY_NEIGHBORS_LINEAR = create_subgraph_strategy((\"\", \"neighbors\", \"linear\", 6))[1]\n",
    "STRATEGY_NEIGHBORS_DEGREE_LINEAR = create_subgraph_strategy((\"\", \"neighbors_degree\", \"linear\", 6))[1]\n",
    "STRATEGY_NEIGHBORS_DEGREE_SHARED_VERTICES = create_subgraph_strategy((\"\", \"neighbors_degree\", \"shared_vertices\", 6))[1]\n",
    "\n",
    "display([STRATEGY_NONE_LINEAR, STRATEGY_NEIGHBORS_LINEAR, STRATEGY_NEIGHBORS_DEGREE_LINEAR, STRATEGY_NEIGHBORS_DEGREE_SHARED_VERTICES])\n",
    "display(list(nac.NAC_colorings(\n",
    "    graph=nx.path_graph(4),\n",
    "    algorithm=STRATEGY_NEIGHBORS_DEGREE_LINEAR,\n",
    ")))"
   ]
  },
  {
   "cell_type": "markdown",
   "metadata": {},
   "source": [
    "### Running and recording benchmarks"
   ]
  },
  {
   "cell_type": "markdown",
   "metadata": {},
   "source": [
    "This cell serves as the main interface for running benchmarks, see the function's doc string.\n",
    "It is compatible only with subgraph decomposition based strategies, for the naive search other functions have to be written."
   ]
  },
  {
   "cell_type": "code",
   "execution_count": null,
   "metadata": {},
   "outputs": [],
   "source": [
    "def measure_for_graph_class(\n",
    "    dataset_name: str,\n",
    "    graphs: Iterable[nx.Graph],\n",
    "    all_max_vertex_no: int,\n",
    "    rounds:int,\n",
    "    graph_timeout: int,\n",
    "    use_monochromatic_classes: bool = True,\n",
    "    df_seen: pd.DataFrame | None = load_records(),\n",
    "    save_every: int | None = 5*60,\n",
    ") -> pd.DataFrame:\n",
    "    \"\"\"\n",
    "    Runs benchmarks for the given graph class.\n",
    "\n",
    "    Parameters:\n",
    "        dataset_name: Name of the dataset stored in the output csv\n",
    "        graphs: Iterable of graphs to benchmark\n",
    "        all_max_vertex_no: Maximum vertex number to search for all NAC-colorings\n",
    "        rounds: Number of rounds to run for each graph\n",
    "        graph_timeout: Timeout for each graph in seconds\n",
    "        use_monochromatic_classes: Whether to use monochromatic classes or tiriangle connected components\n",
    "        df_seen: Dataframe with already measured data, so already tried graphs and strategies can be skipped\n",
    "        save_every: save progress every number of seconds\n",
    "    \"\"\"\n",
    "\n",
    "    dataset_name = dataset_name.replace(\" \", \"_\").lower()\n",
    "    if df_seen is None:\n",
    "        df_seen = toBenchmarkResults()\n",
    "    df_seen = df_seen.query(f\"dataset == '{dataset_name}'\")\n",
    "\n",
    "    results: List[MeasurementResult] = []\n",
    "    all_results: List[MeasurementResult] = []\n",
    "\n",
    "    last_save = time.time()\n",
    "\n",
    "    for graph in tqdm(graphs):\n",
    "        # this would be a functin if python would not have broken scoping\n",
    "        if save_every is not None:\n",
    "            now = time.time()\n",
    "            if now - last_save > save_every:\n",
    "                all_results.extend(results)\n",
    "                df = toBenchmarkResults(results)\n",
    "                update_stored_data([df], head_loaded=False)\n",
    "                results = []\n",
    "                last_save = now\n",
    "\n",
    "\n",
    "        all_colorings = all_max_vertex_no >= graph.number_of_nodes()\n",
    "        trianlge_classes = len(nac.find_monochromatic_classes(graph=graph, class_type=MonochromaticClassType.TRIANGLES)[1])\n",
    "        monochromatic_classes = len(nac.find_monochromatic_classes(graph=graph, class_type=MonochromaticClassType.MONOCHROMATIC)[1])\n",
    "\n",
    "        graph_id = graph_to_id(graph)\n",
    "        df_graph = df_seen.query(f\"graph == '{graph_id}'\")\n",
    "\n",
    "        strategies = itertools.chain(Promising.strategies, (None,))\n",
    "\n",
    "        for strategy in strategies:\n",
    "            # skip test that already run\n",
    "            if strategy is not None:\n",
    "                prev_record = df_graph.query(\n",
    "                    f\"relabel == '{strategy[0]}'\"\n",
    "                    + f\" and split == '{strategy[1]}'\"\n",
    "                    + f\" and merging == '{strategy[2]}'\"\n",
    "                    + f\" and subgraph_size == {strategy[3]}\"\n",
    "                    + f\" and used_monochromatic_classes == {use_monochromatic_classes}\"\n",
    "                )\n",
    "            else:\n",
    "                prev_record = df_graph.query(\n",
    "                    f\"relabel == 'none'\"\n",
    "                    + f\" and split == 'naive-cycles'\"\n",
    "                    + f\" and merging == 'naive-cycles'\"\n",
    "                    + f\" and subgraph_size == 0\"\n",
    "                    + f\" and used_monochromatic_classes == {use_monochromatic_classes}\"\n",
    "                )\n",
    "            if len(prev_record) > 0:\n",
    "                if graph.number_of_nodes() > all_max_vertex_no or list(prev_record[\"nac_all_mean_time\"])[-1] > 0:\n",
    "                    continue\n",
    "\n",
    "            try:\n",
    "                search_res = nac_benchmark_core(\n",
    "                    graph,\n",
    "                    rounds=rounds,\n",
    "                    first_only=not all_colorings,\n",
    "                    strategy=create_subgraph_strategy(strategy) if strategy else (\"none\", \"cycles\"),\n",
    "                    use_monochromatic_classes=use_monochromatic_classes,\n",
    "                    time_limit=graph_timeout,\n",
    "                )\n",
    "\n",
    "                relabel, split, merge, subgraph_size = strategy if strategy else (\"none\", \"naive-cycles\", \"naive-cycles\", 0)\n",
    "                res = create_measurement_result(\n",
    "                    graph=graph,\n",
    "                    dataset_name=dataset_name,\n",
    "                    trianlge_classes=trianlge_classes,\n",
    "                    monochromatic_classes=monochromatic_classes,\n",
    "                    nac_first=search_res.first,\n",
    "                    nac_all=search_res.all,\n",
    "                    relabel_strategy=relabel,\n",
    "                    split_strategy=split,\n",
    "                    merge_strategy=merge,\n",
    "                    subgraph_size=subgraph_size,\n",
    "                    use_smart_split=False,\n",
    "                    used_monochromatic_classes=use_monochromatic_classes,\n",
    "                )\n",
    "                results.append(res)\n",
    "            except Exception as e:\n",
    "                print(\"Exception:\", e)\n",
    "\n",
    "    all_results.extend(results)\n",
    "    df = toBenchmarkResults(results)\n",
    "    update_stored_data([df], head_loaded=False)\n",
    "\n",
    "    df = toBenchmarkResults(all_results)\n",
    "    df = df.sort_values(by=[\"nac_all_mean_time\", \"nac_first_mean_time\"])\n",
    "    return df"
   ]
  },
  {
   "cell_type": "markdown",
   "metadata": {},
   "source": [
    "# Running benchmarks\n",
    "\n",
    "You can run any of these cells by changing the condition and running the cell. As described above, benchmarks take long to run because each graph is run 3 times for each enabled strategy.\n",
    "Each run on a graph takes tens or hundreds of milliseconds to run and that adds up.\n",
    "There is autosave enabled that stores progress every 5 minutes.\n",
    "Do not forget to change `OUTPUT_DIR` at the beginning of the notebook otherwise the tests will be skipped as they are already precomputed for you."
   ]
  },
  {
   "cell_type": "markdown",
   "metadata": {},
   "source": [
    "### Minimally rigid - Random\n",
    "\n",
    "Randomly generated minimally rigid (Laman) graphs of various sizes."
   ]
  },
  {
   "cell_type": "code",
   "execution_count": null,
   "metadata": {},
   "outputs": [],
   "source": [
    "if False:\n",
    "    measure_for_graph_class(\n",
    "        \"Minimally rigid random\",\n",
    "        Graphs.minimally_rigid_random,\n",
    "        all_max_vertex_no=18,\n",
    "        rounds=3,\n",
    "        graph_timeout=3,\n",
    "    )"
   ]
  },
  {
   "cell_type": "markdown",
   "metadata": {},
   "source": [
    "### No 3 nor 4 cycles\n",
    "\n",
    "Graphs with no 3 nor 4 cycles up to 42 vertices."
   ]
  },
  {
   "cell_type": "code",
   "execution_count": null,
   "metadata": {},
   "outputs": [],
   "source": [
    "if False:\n",
    "    df_no_3_nor_4_cycles = measure_for_graph_class(\n",
    "        \"No 3 nor 4 cycles\",\n",
    "        Graphs.no_3_nor_4_cycles,\n",
    "        all_max_vertex_no=0,\n",
    "        rounds=3,\n",
    "        graph_timeout=3,\n",
    "    )"
   ]
  },
  {
   "cell_type": "markdown",
   "metadata": {},
   "source": [
    "### Sparse with few NAC-colorings\n",
    "\n",
    "Graphs generated according to yet unpublished formula that guaranties that these graphs should either have none or small number of NAC-colorings."
   ]
  },
  {
   "cell_type": "code",
   "execution_count": null,
   "metadata": {},
   "outputs": [],
   "source": [
    "if False:\n",
    "    measure_for_graph_class(\n",
    "        \"few_colorings\",\n",
    "        Graphs.sparse_with_few_colorings,\n",
    "        all_max_vertex_no=16,\n",
    "        rounds=3,\n",
    "        graph_timeout=3,\n",
    "    )"
   ]
  },
  {
   "cell_type": "markdown",
   "metadata": {},
   "source": [
    "### Globally rigid\n",
    "\n",
    "Randomly generated globally rigid graphs"
   ]
  },
  {
   "cell_type": "code",
   "execution_count": null,
   "metadata": {},
   "outputs": [],
   "source": [
    "if False:\n",
    "    measure_for_graph_class(\n",
    "        \"globally_rigid\",\n",
    "        Graphs.globally_rigid,\n",
    "        all_max_vertex_no=16,\n",
    "        rounds=3,\n",
    "        graph_timeout=3,\n",
    "    )"
   ]
  },
  {
   "cell_type": "markdown",
   "metadata": {},
   "source": [
    "### No NAC-coloring\n",
    "\n",
    "Random graphs that we found that have no NAC-coloring and more than one triangle-connected component"
   ]
  },
  {
   "cell_type": "code",
   "execution_count": null,
   "metadata": {},
   "outputs": [],
   "source": [
    "if False:\n",
    "    measure_for_graph_class(\n",
    "        \"no_nac_coloring\",\n",
    "        Graphs.no_NAC_coloring,\n",
    "        all_max_vertex_no=0,\n",
    "        rounds=3,\n",
    "        graph_timeout=10,\n",
    "\n",
    "        # use tringle components only\n",
    "        use_monochromatic_classes=False,\n",
    "    )"
   ]
  },
  {
   "cell_type": "markdown",
   "metadata": {},
   "source": [
    "# Analytics\n",
    "\n",
    "In this section we provide a framework for plotting results of the previous benchmarks.\n",
    "\n",
    "**All the chars plotted bellow in this section are created from runs with more than one monochromatic classes.**\n",
    "If that is the case, the results can be obtained immediately as the answer is trivial.\n",
    "Therefore, we filter them out.\n",
    "\n",
    "The first group of graphs show the time required to find\n",
    "a first/all NAC coloring based on the number of vertices or the number of monochromatic classes.\n",
    "In one row you can see mean and median plots with lines for each strategy.\n",
    "Graphs show mean and median, but it is not hard to add additional aggregation function to the framework."
   ]
  },
  {
   "cell_type": "code",
   "execution_count": null,
   "metadata": {},
   "outputs": [],
   "source": [
    "df_analytics = load_records()\n",
    "\n",
    "def add_split_merging(df: pd.DataFrame) -> pd.DataFrame:\n",
    "    return df.assign(split_merging=lambda x: (x[\"split\"] + \" & \" + x[\"merging\"]).str.replace(\"naive-cycles & naive-cycles\", \"naive cycles\"))\n",
    "\n",
    "df_analytics = df_analytics.query(\"nac_any_finished == True and monochromatic_classes_no > 1\")\n",
    "df_analytics = add_split_merging(df_analytics)\n",
    "\n",
    "print(\"Records:\", df_analytics.shape[0], \"graphs:\", df_analytics[\"graph\"].nunique())\n",
    "display(df_analytics.columns)\n",
    "display(list(df_analytics[\"dataset\"].unique()))\n",
    "display(list(df_analytics[\"relabel\"].unique()))\n",
    "display(list(df_analytics[\"split\"].unique()))\n",
    "display(list(df_analytics[\"merging\"].unique()))"
   ]
  },
  {
   "cell_type": "markdown",
   "metadata": {},
   "source": [
    "### Minimally rigid - Random\n",
    "\n",
    "Randomly generated minimally rigid (Laman) graphs of various sizes"
   ]
  },
  {
   "cell_type": "code",
   "execution_count": null,
   "metadata": {},
   "outputs": [],
   "source": [
    "if True:\n",
    "    [display(fig) for fig in plot_frame(\"Minimally rigid - Random\", df_analytics.query(\"dataset == 'minimally_rigid_random'\"))]"
   ]
  },
  {
   "cell_type": "markdown",
   "metadata": {},
   "source": [
    "### No 3 nor 4 cycles\n",
    "\n",
    "Graphs with no 3 nor 4 cycles up to 42 vertices"
   ]
  },
  {
   "cell_type": "code",
   "execution_count": null,
   "metadata": {},
   "outputs": [],
   "source": [
    "if True:\n",
    "    [display(fig) for fig in plot_frame(\"No 3 nor 4 cycles\", df_analytics.query(\"dataset == 'no_3_nor_4_cycles'\"))]"
   ]
  },
  {
   "cell_type": "markdown",
   "metadata": {},
   "source": [
    "### Graphs with few NAC-colorings\n",
    "\n",
    "Graphs generated according to yet unpublished formula that guaranties that these graphs should either have none or small number of NAC-colorings."
   ]
  },
  {
   "cell_type": "code",
   "execution_count": null,
   "metadata": {},
   "outputs": [],
   "source": [
    "if True:\n",
    "    [display(fig) for fig in plot_frame(\"Sparse with few colorings - None\", df_analytics.query(\"dataset == 'few_colorings'\"))]"
   ]
  },
  {
   "cell_type": "markdown",
   "metadata": {},
   "source": [
    "### Globally rigid graphs\n",
    "\n",
    "Randomly generated globally rigid graphs"
   ]
  },
  {
   "cell_type": "code",
   "execution_count": null,
   "metadata": {},
   "outputs": [],
   "source": [
    "if True:\n",
    "    [display(fig) for fig in plot_frame(\"Globally rigid\", df_analytics.query(\"dataset == 'globally_rigid'\"))]"
   ]
  },
  {
   "cell_type": "markdown",
   "metadata": {},
   "source": [
    "### No NAC-coloring\n",
    "\n",
    "Random graphs that we found that have no NAC-coloring and more than one triangle-connected component"
   ]
  },
  {
   "cell_type": "code",
   "execution_count": null,
   "metadata": {},
   "outputs": [],
   "source": [
    "if True:\n",
    "    df = load_records().query(\"dataset == 'no_nac_coloring' and used_monochromatic_classes == False and triangle_components_no > 1\")\n",
    "    df = add_split_merging(df)\n",
    "    df_non_cycles = df.query(\"split != 'naive-cycles'\")\n",
    "    df_cycles = df.query(\"split == 'naive-cycles'\")\n",
    "    print(\"Subgraphs strategies number that finished in 30s timeout\")\n",
    "    display(df_non_cycles[\"nac_any_finished\"].value_counts()/len(df_non_cycles))\n",
    "    print(\"Naive cycles runs number that finished in 30s timeout\")\n",
    "    display(df_cycles[\"nac_any_finished\"].value_counts()/len(df_cycles))\n",
    "\n",
    "    # replace failed attemps with 30 seconds\n",
    "    df.loc[df[\"nac_any_finished\"] == False, \"nac_first_mean_time\"] = 30_000\n",
    "\n",
    "    [display(fig) for fig in plot_frame(\"No NAC-coloring (trinagle-connected components)\", df, ops_x_column = [\"vertex_no\", \"triangle_components_no\",])]"
   ]
  },
  {
   "cell_type": "markdown",
   "metadata": {},
   "source": [
    "## The number of checks needed\n",
    "\n",
    "This group of graphs compares the number of checks performed by our algorithm and by naive algorithm\n",
    "using either no monochromatic classes, triangle components or monochromatic classes described in the article.\n",
    "\n",
    "Unless you change anything, the result is plotted from the whole benchmarks dataset - all the graphs classes are used.\n",
    "You can add `query(\"dataset == '...'\")` to show the graph for a specific dataset.\n",
    "\n",
    "The number of `IsNACColoring` checks called compared to\n",
    "the naive approach without or with triangle/monochromatic classes.\n",
    "\n",
    "It is expected that the number of `IsNACColoring` checks will be smaller than the `CycleMask` checks as the `CycleMask` checks happen every time, but `IsNACColoring` checks happen only if the previous checks fail."
   ]
  },
  {
   "cell_type": "code",
   "execution_count": null,
   "metadata": {},
   "outputs": [],
   "source": [
    "if True:\n",
    "    [display(fig) for fig in plot_is_NAC_coloring_calls(df_analytics.query(\"split != 'naive-cycles'\"))]"
   ]
  }
 ],
 "metadata": {
  "kernelspec": {
   "display_name": "Python 3 (ipykernel)",
   "language": "python",
   "name": "python3"
  },
  "language_info": {
   "codemirror_mode": {
    "name": "ipython",
    "version": 3
   },
   "file_extension": ".py",
   "mimetype": "text/x-python",
   "name": "python",
   "nbconvert_exporter": "python",
   "pygments_lexer": "ipython3",
   "version": "3.12.8"
  }
 },
 "nbformat": 4,
 "nbformat_minor": 4
}
