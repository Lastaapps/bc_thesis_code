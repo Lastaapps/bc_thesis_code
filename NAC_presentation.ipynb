{
 "cells": [
  {
   "cell_type": "markdown",
   "metadata": {},
   "source": [
    "# NAC coloring search\n",
    "\n",
    "In this notebook we provide utilities to run benchmarks, analyze results and experiment with our code.\n",
    "As the package is still in development, not all parts must be user-friendly, still we try to provide good enough description and usable abstraction.\n",
    "\n",
    "First we provide class for loading graph classes,\n",
    "then a simple function for measuring performance of listing all NAC-colorings on a graph class.\n",
    "Then we define how strategies are passed to our algorithm,\n",
    "and after a framework for defining and running benchmarks.\n",
    "Lastly, we provide tools for quick results analysis.\n",
    "\n",
    "Many utility functions were moved from the notebook\n",
    "into a separate file to improve clarity, see `benchmarks/notebook_utils.py`.\n",
    "\n",
    "Make sure the `nac` directory is in your working directory, and that you installed `requierements.txt` into your virtual environment.\n",
    "Also, make sure to uncompressed files in `benchmarks/precomputed` if you want to analyze our result yourself."
   ]
  },
  {
   "cell_type": "code",
   "execution_count": null,
   "metadata": {},
   "outputs": [],
   "source": [
    "from typing import *\n",
    "import importlib\n",
    "from collections import deque\n",
    "\n",
    "import numpy as np\n",
    "import pandas as pd\n",
    "import networkx as nx\n",
    "import os\n",
    "import time\n",
    "import datetime\n",
    "import signal\n",
    "import itertools\n",
    "import base64\n",
    "\n",
    "from tqdm import tqdm\n",
    "\n",
    "import nac as nac\n",
    "import nac.util\n",
    "from nac import MonochromaticClassType\n",
    "importlib.reload(nac)\n",
    "importlib.reload(nac.util)\n",
    "\n",
    "import benchmarks\n",
    "from benchmarks import dataset\n",
    "import benchmarks.notebook_utils\n",
    "from benchmarks.notebook_utils import *\n",
    "importlib.reload(benchmarks)\n",
    "importlib.reload(dataset)\n",
    "importlib.reload(benchmarks.notebook_utils)\n",
    "\n",
    "seed=42"
   ]
  },
  {
   "cell_type": "markdown",
   "metadata": {},
   "source": [
    "### Benchmarks directory\n",
    "\n",
    "You can either choose to use our precomputed results or run the benchmarks yourself.\n",
    "The algorithms take usually tens or hunderes of miliseconds to run,\n",
    "but there is plenty of graphs and strategies combinations, so times add up."
   ]
  },
  {
   "cell_type": "code",
   "execution_count": null,
   "metadata": {},
   "outputs": [],
   "source": [
    "OUTPUT_DIR_PRECOMPUTED = os.path.join(\"benchmarks\", \"precomputed\")\n",
    "OUTPUT_DIR_LOCAL = os.path.join(\"benchmarks\", \"local\")\n",
    "\n",
    "benchmarks.notebook_utils.OUTPUT_DIR = OUTPUT_DIR_PRECOMPUTED\n",
    "os.makedirs(benchmarks.notebook_utils.OUTPUT_DIR, exist_ok=True)"
   ]
  },
  {
   "cell_type": "markdown",
   "metadata": {},
   "source": [
    "# Loading graph classes\n",
    "\n",
    "In this section we load graphs that can be later used for running benchmarks.\n",
    "The graphs are not in any specified order and they differ in size ranges.\n",
    "Graphs are stored in the `graph6` format in the `graphs_store` directory."
   ]
  },
  {
   "cell_type": "code",
   "execution_count": null,
   "metadata": {},
   "outputs": [],
   "source": [
    "class Graphs:\n",
    "    \"\"\"\n",
    "    Randomly generated minimally rigid (Laman) graphs of various sizes\n",
    "    \"\"\"\n",
    "    minimally_rigid_random = LazyList(lambda: dataset.load_laman_random_graphs())\n",
    "    \"\"\"\n",
    "    Graphs with no 3 nor 4 cycles up to 42 vertices\n",
    "    \"\"\"\n",
    "    no_3_nor_4_cycles = LazyList(lambda: dataset.load_no_3_nor_4_cycle_graphs())\n",
    "    \"\"\"\n",
    "    Randomly generated globally rigid graphs\n",
    "    \"\"\"\n",
    "    globally_rigid = LazyList(lambda: dataset.load_globally_rigid_graphs())\n",
    "    \"\"\"\n",
    "    Random (globally rigid) graphs that have no NAC-coloring and more than 2*sqrt(n) triangle-connected components\n",
    "    \"\"\"\n",
    "    no_NAC_coloring_generated_40 = LazyList(lambda: dataset.load_no_NAC_coloring_graphs_generated(40))\n",
    "    no_NAC_coloring_generated_50 = LazyList(lambda: dataset.load_no_NAC_coloring_graphs_generated(50))\n",
    "    no_NAC_coloring_generated_60 = LazyList(lambda: dataset.load_no_NAC_coloring_graphs_generated(60))\n",
    "    no_NAC_coloring_generated_70 = LazyList(lambda: dataset.load_no_NAC_coloring_graphs_generated(70))\n",
    "    no_NAC_coloring_generated_80 = LazyList(lambda: dataset.load_no_NAC_coloring_graphs_generated(80))\n",
    "    no_NAC_coloring_generated_90 = LazyList(lambda: dataset.load_no_NAC_coloring_graphs_generated(90))\n",
    "    no_NAC_coloring_generated_100 = LazyList(lambda: dataset.load_no_NAC_coloring_graphs_generated(100))\n",
    "    no_NAC_coloring_generated_110 = LazyList(lambda: dataset.load_no_NAC_coloring_graphs_generated(110))\n",
    "    no_NAC_coloring_generated_120 = LazyList(lambda: dataset.load_no_NAC_coloring_graphs_generated(120))\n",
    "    no_NAC_coloring_generated_130 = LazyList(lambda: dataset.load_no_NAC_coloring_graphs_generated(130))\n",
    "\n",
    "    \"\"\"\n",
    "    Loads all the minimally rigid (Laman) graphs of the given size, pregenerated files allow the range of [5, 11]\n",
    "    \"\"\"\n",
    "    def load_all_minimally_rigid(vertex_no: int) -> List[nx.Graph]:\n",
    "        return list(dataset.load_laman_all(vertices_no=vertex_no))"
   ]
  },
  {
   "cell_type": "markdown",
   "metadata": {},
   "source": [
    "# Running on all minimally rigid graphs\n",
    "\n",
    "This is a function that can be used for benchmarking of finding all the NAC-colorings of some graph class.\n",
    "This function can provide only total times, not runtime per graph. That is the job of the following benchmarks."
   ]
  },
  {
   "cell_type": "code",
   "execution_count": null,
   "metadata": {},
   "outputs": [],
   "source": [
    "def benchmarks_all_NAC_coloring_on_class(\n",
    "    graphs: List[nx.Graph],\n",
    "    rounds: int,\n",
    "    strategy: str,\n",
    "    use_monochromatic_classes: bool,\n",
    "    use_has_coloring_check: bool = False,\n",
    ") -> float:\n",
    "    start = time.time()\n",
    "    monochromatic_class_type=nac.MonochromaticClassType.MONOCHROMATIC if use_monochromatic_classes else nac.MonochromaticClassType.TRIANGLES\n",
    "\n",
    "    for _ in range(rounds):\n",
    "        for graph in graphs:\n",
    "            # the fastest way to collect an iterable in Python\n",
    "            deque(nac.NAC_colorings(\n",
    "                graph,\n",
    "                relabel_strategy=\"none\",\n",
    "                algorithm=strategy,\n",
    "                monochromatic_class_type=monochromatic_class_type,\n",
    "                use_has_coloring_check=use_has_coloring_check,\n",
    "            ), 0)\n",
    "\n",
    "    return (time.time() - start) / rounds\n",
    "\n",
    "def benchmarks_all_NAC_coloring_minimally_rigid(\n",
    "    vertex_no: int,\n",
    "    rounds: int,\n",
    "):\n",
    "    graphs = list(Graphs.load_all_minimally_rigid(vertex_no))\n",
    "    for strategy, use_monochromatic_classes in [\n",
    "        ('naive', False),\n",
    "        ('naive', True),\n",
    "        ('cycles', True),\n",
    "        ('subgraphs-linear-neighbors_degree-4', True),\n",
    "    ]:\n",
    "        print(f\"[{vertex_no:2}]: # {strategy} (monochrom: {use_monochromatic_classes})\")\n",
    "        runtime = benchmarks_all_NAC_coloring_on_class(\n",
    "            graphs=graphs,\n",
    "            rounds=rounds,\n",
    "            strategy=strategy,\n",
    "            use_monochromatic_classes=use_monochromatic_classes,\n",
    "        )\n",
    "        print(f\"[{vertex_no:2}]: > {runtime:.3f} s\")\n",
    "\n",
    "if False: # Change to enable\n",
    "    for n in range(5, 11+1):\n",
    "        benchmarks_all_NAC_coloring_minimally_rigid(\n",
    "            vertex_no=n,\n",
    "            rounds=3 if n <= 10 else 1,\n",
    "        )"
   ]
  },
  {
   "cell_type": "markdown",
   "metadata": {},
   "source": [
    "# Storing and loading benchmark results\n",
    "\n",
    "Each row represents performance of a graph with a given strategy.\n",
    "The difference between the first and all variant is that\n",
    "in the all variants we search for all NAC-colorings,\n",
    "but in the first variant we search only.\n",
    "\n",
    "The export CSV columns are:\n",
    "- `timestamp` - date time of the test in UTC\n",
    "- `graph` - base64 encoded bytes of graph6 encoded graph\n",
    "- `dataset` - class of the graph, `minimally_ridig_random`, `no_3_nor_4_cycles`, `globally_rigid`, ...\n",
    "- `vertex_no` - the number of vertices of the graph\n",
    "- `edge_no` - the number of edges of the graph\n",
    "- `triangle_components_no` - the number of triangle components of the graph\n",
    "- `monochromatic_classes_no` - the number of monochromatic classes of the graph\n",
    "- `relabel` - relabel strategy (relabels vertices before the main algorithm is run, here we have only `none` or `random`)\n",
    "- `split` - splitting strategy\n",
    "- `merge` - merging strategy\n",
    "- `subgraph_size` - the target initial size of subgraphs in monochromatic components\n",
    "- `used_monochromatic_classes` - if monochromatic classes were used to run the test, `False` means triangle components were used\n",
    "- `nac_any_finished` - if any of the tests finished in time\n",
    "- `nac_{first|all}_coloring_no` - the number of NAC-colorings of the graph, for the first variant limited to 1\n",
    "- `nac_{first|all}_mean_time` - the time required to find first/all NAC-colorings in milliseconds\n",
    "- `nac_{first|all}_rounds` - the number of rounds used to run the benchmarks\n",
    "- `nac_{first|all}_check_cycle_mask` - the number of cycle mask checks performed\n",
    "- `nac_{first|all}_check_is_NAC` - the number of `IsNACColorng` checks performed\n",
    "- `nac_{first|all}_merge` - the number of merges performed\n",
    "- `nac_{first|all}_merge_no_common_vertex` - the number of merges with no common vertex (these are simple to compute, but produce large no of colorings slowing down the algorithm)"
   ]
  },
  {
   "cell_type": "code",
   "execution_count": null,
   "metadata": {},
   "outputs": [],
   "source": [
    "display(COLUMNS)"
   ]
  },
  {
   "cell_type": "markdown",
   "metadata": {},
   "source": [
    "# Strategies\n",
    "\n",
    "The interface of the NAC-coloring search function looks like this:\n",
    "```python\n",
    "def NAC_colorings(\n",
    "    graph: nx.Graph,\n",
    "    algorithm: str = \"subgraphs\",\n",
    "    relabel_strategy: str = \"none\",\n",
    "    monochromatic_class_type: MonochromaticClassType = MonochromaticClassType.MONOCHROMATIC,\n",
    "    use_decompositions: bool = True,\n",
    "    use_has_coloring_check: bool = True,\n",
    "    seed: int | None = None,\n",
    ") -> Iterable[NACColoring]:\n",
    "```\n",
    "\n",
    "The relabel strategy is either `\"none\"` or `\"random\"`.\n",
    "`MonochromaticClassType` types are `MONOCHROMATIC` that creates monochromatic classes as described in the paper,\n",
    "`TRIANGLES` that finds only triangle connected components and\n",
    "`EDGES` that uses no monochromatic classes optimization.\n",
    "The `use_decompositions` switch is responsible for enabling checks for articulation points and related decomposition into blocks.\n",
    "The `use_has_coloring_check` runs some polynomial checks if a NAC-coloring can exist. If not, the whole search is skipped.\n",
    "`seed` is used by strategies internally as only pseudo random number generators are used.\n",
    "\n",
    "The most important field is the `algorithm` field.\n",
    "Possible values are:\n",
    "- `\"naive\"` - runs naive algorithm\n",
    "- `\"cycles\"` - runs naive algorithm improved by cycles detection\n",
    "- `\"subgraphs\"` - runs so far optimal algorithm for larger graphs based on subgraph decomposition\n",
    "- `\"subgraphs-{merge_strategy}-{split_strategy}-{size_of_subgraphs}\"` - runs the specified strategy combination with subgraph decomposition\n",
    "\n",
    "In our code strategies are represented as four-tupples."
   ]
  },
  {
   "cell_type": "code",
   "execution_count": null,
   "metadata": {},
   "outputs": [],
   "source": [
    "class Promising:\n",
    "    RELABELING = [\n",
    "        \"none\",\n",
    "        # random strategy is disabled as we use randomly generated graphs\n",
    "        # \"random\",\n",
    "    ]\n",
    "    SPLITTING = [\n",
    "        \"none\",\n",
    "        \"cycles_match_chunks\",\n",
    "        \"neighbors\",\n",
    "        \"neighbors_degree\",\n",
    "    ]\n",
    "    MERGE = [\n",
    "        \"linear\",\n",
    "        \"shared_vertices\",\n",
    "    ]\n",
    "    # This is not optimal for every graph, but does not hurt performance significantly\n",
    "    SIZES = [6]\n",
    "\n",
    "    strategies = list(itertools.product(\n",
    "        RELABELING, SPLITTING, MERGE, SIZES,\n",
    "    ))\n",
    "print(f\"Strategies: {len(Promising.strategies)}\")"
   ]
  },
  {
   "cell_type": "code",
   "execution_count": null,
   "metadata": {},
   "outputs": [],
   "source": [
    "def create_subgraph_strategy(param: Tuple[str, str, str, int]) -> Tuple[str, str]:\n",
    "    relabel, split, merge, subgraph = param\n",
    "    algo_name = \"subgraphs-{}-{}-{}\".format( merge, split, subgraph)\n",
    "    return (relabel, algo_name)"
   ]
  },
  {
   "cell_type": "markdown",
   "metadata": {},
   "source": [
    "In case you want to play with the notebook we predefined some strategies as example."
   ]
  },
  {
   "cell_type": "code",
   "execution_count": null,
   "metadata": {},
   "outputs": [],
   "source": [
    "STRATEGY_NONE_LINEAR = create_subgraph_strategy((\"\", \"none\", \"linear\", 6))[1]\n",
    "STRATEGY_NEIGHBORS_LINEAR = create_subgraph_strategy((\"\", \"neighbors\", \"linear\", 6))[1]\n",
    "STRATEGY_NEIGHBORS_DEGREE_LINEAR = create_subgraph_strategy((\"\", \"neighbors_degree\", \"linear\", 6))[1]\n",
    "STRATEGY_NEIGHBORS_DEGREE_SHARED_VERTICES = create_subgraph_strategy((\"\", \"neighbors_degree\", \"shared_vertices\", 6))[1]\n",
    "\n",
    "display([STRATEGY_NONE_LINEAR, STRATEGY_NEIGHBORS_LINEAR, STRATEGY_NEIGHBORS_DEGREE_LINEAR, STRATEGY_NEIGHBORS_DEGREE_SHARED_VERTICES])\n",
    "display(list(nac.NAC_colorings(\n",
    "    graph=nx.path_graph(4),\n",
    "    algorithm=STRATEGY_NEIGHBORS_DEGREE_LINEAR,\n",
    ")))"
   ]
  },
  {
   "cell_type": "markdown",
   "metadata": {},
   "source": [
    "### Running and recording benchmarks"
   ]
  },
  {
   "cell_type": "markdown",
   "metadata": {},
   "source": [
    "This cell serves as the main interface for running benchmarks, see the function's doc string.\n",
    "It is compatible only with subgraph decomposition based strategies, for the naive search other functions have to be written.\n",
    "Note that benchmarks that were already run are skipped on purpose. Don't use precomputed data then."
   ]
  },
  {
   "cell_type": "code",
   "execution_count": null,
   "metadata": {},
   "outputs": [],
   "source": [
    "def measure_for_graph_class(\n",
    "    dataset_name: str,\n",
    "    graphs: Iterable[nx.Graph],\n",
    "    all_max_vertex_no: int,\n",
    "    rounds:int,\n",
    "    graph_timeout: int,\n",
    "    use_monochromatic_classes: bool = True,\n",
    "    df_seen: pd.DataFrame | Callable[[], pd.DataFrame] |None = lambda: load_records(),\n",
    "    save_every: int | None = 5*60,\n",
    "    naive_cycles: bool = False,\n",
    "    verbose: bool = False,\n",
    ") -> pd.DataFrame:\n",
    "    \"\"\"\n",
    "    Runs benchmarks for the given graph class.\n",
    "\n",
    "    Parameters:\n",
    "        dataset_name: Name of the dataset stored in the output csv\n",
    "        graphs: Iterable of graphs to benchmark\n",
    "        all_max_vertex_no: Maximum vertex number to search for all NAC-colorings\n",
    "        rounds: Number of rounds to run for each graph\n",
    "        graph_timeout: Timeout for each graph in seconds\n",
    "        use_monochromatic_classes: Whether to use monochromatic classes or tiriangle connected components\n",
    "        df_seen: Dataframe with already measured data, so already tried graphs and strategies can be skipped\n",
    "        save_every: save progress every number of seconds\n",
    "    \"\"\"\n",
    "    if callable(df_seen):\n",
    "        df_seen = df_seen()\n",
    "\n",
    "    dataset_name = dataset_name.replace(\" \", \"_\").lower()\n",
    "    if df_seen is None:\n",
    "        df_seen = toBenchmarkResults()\n",
    "    df_seen = df_seen.query(f\"dataset == '{dataset_name}'\")\n",
    "\n",
    "    results: List[MeasurementResult] = []\n",
    "    all_results: List[MeasurementResult] = []\n",
    "\n",
    "    last_save = time.time()\n",
    "\n",
    "    for graph in tqdm(graphs):\n",
    "        # this would be a functin if python would not have broken scoping\n",
    "        if save_every is not None:\n",
    "            now = time.time()\n",
    "            if now - last_save > save_every:\n",
    "                all_results.extend(results)\n",
    "                df = toBenchmarkResults(results)\n",
    "                update_stored_data([df], head_loaded=False)\n",
    "                results = []\n",
    "                last_save = now\n",
    "\n",
    "\n",
    "        all_colorings = all_max_vertex_no >= graph.number_of_nodes()\n",
    "        trianlge_classes = len(nac.find_monochromatic_classes(graph=graph, class_type=MonochromaticClassType.TRIANGLES)[1])\n",
    "        monochromatic_classes = len(nac.find_monochromatic_classes(graph=graph, class_type=MonochromaticClassType.MONOCHROMATIC)[1])\n",
    "\n",
    "        graph_id = graph_to_id(graph)\n",
    "        df_graph = df_seen.query(f\"graph == '{graph_id}'\")\n",
    "\n",
    "        strategies = Promising.strategies\n",
    "        if naive_cycles:\n",
    "            strategies = itertools.chain(strategies, (None,))\n",
    "\n",
    "        for strategy in strategies:\n",
    "            # skip test that already run\n",
    "            if strategy is not None:\n",
    "                prev_record = df_graph.query(\n",
    "                    f\"relabel == '{strategy[0]}'\"\n",
    "                    + f\" and split == '{strategy[1]}'\"\n",
    "                    + f\" and merging == '{strategy[2]}'\"\n",
    "                    + f\" and subgraph_size == {strategy[3]}\"\n",
    "                    + f\" and used_monochromatic_classes == {use_monochromatic_classes}\"\n",
    "                )\n",
    "            else:\n",
    "                prev_record = df_graph.query(\n",
    "                    f\"relabel == 'none'\"\n",
    "                    + f\" and split == 'naive-cycles'\"\n",
    "                    + f\" and merging == 'naive-cycles'\"\n",
    "                    + f\" and subgraph_size == 0\"\n",
    "                    + f\" and used_monochromatic_classes == {use_monochromatic_classes}\"\n",
    "                )\n",
    "            if len(prev_record) > 0:\n",
    "                if graph.number_of_nodes() > all_max_vertex_no or list(prev_record[\"nac_all_mean_time\"])[-1] > 0:\n",
    "                    continue\n",
    "\n",
    "            try:\n",
    "                search_res = nac_benchmark_core(\n",
    "                    graph,\n",
    "                    rounds=rounds,\n",
    "                    first_only=not all_colorings,\n",
    "                    strategy=create_subgraph_strategy(strategy) if strategy else (\"none\", \"cycles\"),\n",
    "                    use_monochromatic_classes=use_monochromatic_classes,\n",
    "                    time_limit=graph_timeout,\n",
    "                )\n",
    "\n",
    "                relabel, split, merge, subgraph_size = strategy if strategy else (\"none\", \"naive-cycles\", \"naive-cycles\", 0)\n",
    "                res = create_measurement_result(\n",
    "                    graph=graph,\n",
    "                    dataset_name=dataset_name,\n",
    "                    trianlge_classes=trianlge_classes,\n",
    "                    monochromatic_classes=monochromatic_classes,\n",
    "                    nac_first=search_res.first,\n",
    "                    nac_all=search_res.all,\n",
    "                    relabel_strategy=relabel,\n",
    "                    split_strategy=split,\n",
    "                    merge_strategy=merge,\n",
    "                    subgraph_size=subgraph_size,\n",
    "                    use_smart_split=False,\n",
    "                    used_monochromatic_classes=use_monochromatic_classes,\n",
    "                )\n",
    "                results.append(res)\n",
    "                if (verbose):\n",
    "                    print(f\"Strategy {strategy} took {res.nac_first_mean_time} ms\")\n",
    "            except Exception as e:\n",
    "                print(\"Exception:\", e)\n",
    "\n",
    "    all_results.extend(results)\n",
    "    df = toBenchmarkResults(results)\n",
    "    update_stored_data([df], head_loaded=False)\n",
    "\n",
    "    df = toBenchmarkResults(all_results)\n",
    "    df = df.sort_values(by=[\"nac_all_mean_time\", \"nac_first_mean_time\"])\n",
    "    return df"
   ]
  },
  {
   "cell_type": "markdown",
   "metadata": {},
   "source": [
    "# Running benchmarks\n",
    "\n",
    "You can run any of these cells by changing the condition and running the cell. As described above, benchmarks take long to run because each graph is run 3 times for each enabled strategy.\n",
    "Each run on a graph takes tens or hundreds of milliseconds to run and that adds up.\n",
    "There is autosave enabled that stores progress every 5 minutes.\n",
    "Do not forget to change `OUTPUT_DIR` at the beginning of the notebook otherwise the tests will be skipped as they are already precomputed for you."
   ]
  },
  {
   "cell_type": "markdown",
   "metadata": {},
   "source": [
    "### Minimally rigid - Random\n",
    "\n",
    "Randomly generated minimally rigid (Laman) graphs of various sizes."
   ]
  },
  {
   "cell_type": "code",
   "execution_count": null,
   "metadata": {},
   "outputs": [],
   "source": [
    "if False:\n",
    "    measure_for_graph_class(\n",
    "        \"Minimally rigid random\",\n",
    "        Graphs.minimally_rigid_random,\n",
    "        all_max_vertex_no=18,\n",
    "        rounds=3,\n",
    "        graph_timeout=3,\n",
    "    )"
   ]
  },
  {
   "cell_type": "markdown",
   "metadata": {},
   "source": [
    "### No 3 nor 4 cycles\n",
    "\n",
    "Graphs with no 3 nor 4 cycles up to 42 vertices."
   ]
  },
  {
   "cell_type": "code",
   "execution_count": null,
   "metadata": {},
   "outputs": [],
   "source": [
    "if False:\n",
    "    df_no_3_nor_4_cycles = measure_for_graph_class(\n",
    "        \"No 3 nor 4 cycles\",\n",
    "        Graphs.no_3_nor_4_cycles,\n",
    "        all_max_vertex_no=0,\n",
    "        rounds=3,\n",
    "        graph_timeout=3,\n",
    "    )"
   ]
  },
  {
   "cell_type": "markdown",
   "metadata": {},
   "source": [
    "### Globally rigid\n",
    "\n",
    "Randomly generated globally rigid graphs"
   ]
  },
  {
   "cell_type": "code",
   "execution_count": null,
   "metadata": {},
   "outputs": [],
   "source": [
    "if False:\n",
    "    measure_for_graph_class(\n",
    "        \"globally_rigid\",\n",
    "        Graphs.globally_rigid,\n",
    "        all_max_vertex_no=16,\n",
    "        rounds=3,\n",
    "        graph_timeout=3,\n",
    "    )"
   ]
  },
  {
   "cell_type": "markdown",
   "metadata": {},
   "source": [
    "### No NAC-coloring\n",
    "\n",
    "Random graphs that we found that have no NAC-coloring and more than one triangle-connected component"
   ]
  },
  {
   "cell_type": "code",
   "execution_count": null,
   "metadata": {},
   "outputs": [],
   "source": [
    "if True:\n",
    "    measure_for_graph_class(\n",
    "        \"no_nac_coloring\",\n",
    "        Graphs.no_NAC_coloring_generated_100, # Change this to higher vertex numbers (tens only)\n",
    "        all_max_vertex_no=0,\n",
    "        rounds=2,\n",
    "        graph_timeout=10,\n",
    "        # See times for individual graphs\n",
    "        verbose=True,\n",
    "        # Disable the naive algorithm\n",
    "        naive_cycles=False,\n",
    "        # use tringle components only\n",
    "        use_monochromatic_classes=False,\n",
    "    )"
   ]
  },
  {
   "cell_type": "markdown",
   "metadata": {},
   "source": [
    "# Analytics\n",
    "\n",
    "In this section we provide a framework for plotting results of the previous benchmarks.\n",
    "\n",
    "**All the chars plotted bellow in this section are created from runs with more than one monochromatic classes.**\n",
    "If that is the case, the results can be obtained immediately as the answer is trivial.\n",
    "Therefore, we filter them out.\n",
    "\n",
    "The first group of graphs show the time required to find\n",
    "a first/all NAC coloring based on the number of vertices or the number of monochromatic classes.\n",
    "In one row you can see mean and median plots with lines for each strategy.\n",
    "Graphs show mean and median, but it is not hard to add additional aggregation function to the framework."
   ]
  },
  {
   "cell_type": "code",
   "execution_count": null,
   "metadata": {},
   "outputs": [],
   "source": [
    "df_analytics_loaded = load_records()"
   ]
  },
  {
   "cell_type": "code",
   "execution_count": null,
   "metadata": {},
   "outputs": [],
   "source": [
    "# Basic filter\n",
    "df_analytics = df_analytics_loaded\n",
    "df_analytics = df_analytics.query(\"dataset != 'test'\")\n",
    "\n",
    "print(\"Total runs:\", len(df_analytics))\n",
    "print(\"Total graphs:\", len(df_analytics[\"graph\"].unique()))\n",
    "\n",
    "# Transform\n",
    "df_analytics = df_analytics.assign(split_merging=lambda x: (x[\"split\"] + \" & \" + x[\"merging\"]).str.replace(\"naive-cycles & naive-cycles\", \"naive cycles\"))\n",
    "df_analytics = df_analytics.assign(split_merging_smart=lambda x: x[\"split_merging\"] + \" & \" + x[\"use_smart_split\"].astype(str))\n",
    "\n",
    "# Filter bad strategies\n",
    "df_with_failing = df_analytics\n",
    "df_analytics = df_analytics.query(\"split != 'kernighan_lin' and split != 'cuts'\")\n",
    "df_analytics = df_analytics.query(\"merging != 'log' and merging != 'score' and merging != 'promising_cycles'\")\n",
    "\n",
    "# Keep only graphs that finished for all trategies\n",
    "df_analytics = df_analytics.query(\"nac_any_finished == True\")\n",
    "\n",
    "# Graphs with no NAC coloring and more triangle connected components\n",
    "df_analytics_no_nac = df_analytics.query(\"nac_first_coloring_no == 0 and triangle_components_no > 1 and used_monochromatic_classes == False\")\n",
    "df_analytics = df_analytics.query(\"monochromatic_classes_no > 1\")\n",
    "\n",
    "# display(df_analytics.info())\n",
    "print(\"Graphs with no NAC-coloring and more monochromatic classes\", df_analytics_no_nac.query(\"monochromatic_classes_no > 1\")['graph'].nunique())\n",
    "print(\"Records:\", df_analytics.shape[0], \"graphs:\", df_analytics[\"graph\"].nunique())\n",
    "display(df_analytics.columns)\n",
    "display(list(df_analytics[\"dataset\"].unique()))\n",
    "display(list(df_analytics[\"relabel\"].unique()))\n",
    "display(list(df_analytics_no_nac[\"split\"].unique()))\n",
    "display(list(df_analytics[\"merging\"].unique()))"
   ]
  },
  {
   "cell_type": "markdown",
   "metadata": {},
   "source": [
    "### Minimally rigid - Random\n",
    "\n",
    "Randomly generated minimally rigid (Laman) graphs of various sizes"
   ]
  },
  {
   "cell_type": "code",
   "execution_count": null,
   "metadata": {},
   "outputs": [],
   "source": [
    "if True:\n",
    "    [display(fig) for fig in plot_frame(\"Minimally rigid - Random\", df_analytics.query(\"dataset == 'laman_random'\"))]"
   ]
  },
  {
   "cell_type": "markdown",
   "metadata": {},
   "source": [
    "### No 3 nor 4 cycles\n",
    "\n",
    "Graphs with no 3 nor 4 cycles up to 42 vertices"
   ]
  },
  {
   "cell_type": "code",
   "execution_count": null,
   "metadata": {},
   "outputs": [],
   "source": [
    "if True:\n",
    "    [display(fig) for fig in plot_frame(\"No 3 nor 4 cycles\", df_analytics.query(\"dataset == 'no_3_nor_4_cycles'\"))]"
   ]
  },
  {
   "cell_type": "markdown",
   "metadata": {},
   "source": [
    "### Graphs with few NAC-colorings\n",
    "\n",
    "Graphs generated according to yet unpublished formula that guaranties that these graphs should either have none or small number of NAC-colorings."
   ]
  },
  {
   "cell_type": "code",
   "execution_count": null,
   "metadata": {},
   "outputs": [],
   "source": [
    "if True:\n",
    "    [display(fig) for fig in plot_frame(\"Sparse with few colorings - None\", df_analytics.query(\"dataset == 'few_colorings'\"))]"
   ]
  },
  {
   "cell_type": "markdown",
   "metadata": {},
   "source": [
    "### Globally rigid graphs\n",
    "\n",
    "Randomly generated globally rigid graphs"
   ]
  },
  {
   "cell_type": "code",
   "execution_count": null,
   "metadata": {},
   "outputs": [],
   "source": [
    "if True:\n",
    "    [display(fig) for fig in plot_frame(\"Globally rigid\", df_analytics.query(\"dataset == 'globally_rigid'\"))]"
   ]
  },
  {
   "cell_type": "markdown",
   "metadata": {},
   "source": [
    "### No NAC-coloring\n",
    "\n",
    "Random graphs that we found that have no NAC-coloring and more than one triangle-connected component"
   ]
  },
  {
   "cell_type": "code",
   "execution_count": null,
   "metadata": {},
   "outputs": [],
   "source": [
    "def query_no_nac_coloring_generated(base: pd.DataFrame) -> pd.DataFrame:\n",
    "    base_40 = base.query(\"dataset == 'no_nac_coloring_generated_40'\")\n",
    "    base_50 = base.query(\"dataset == 'no_nac_coloring_generated_50'\")\n",
    "    base_60 = base.query(\"dataset == 'no_nac_coloring_generated_60'\")\n",
    "    base_70 = base.query(\"dataset == 'no_nac_coloring_generated_70'\")\n",
    "    base_80 = base.query(\"dataset == 'no_nac_coloring_generated_80'\")\n",
    "    base_90 = base.query(\"dataset == 'no_nac_coloring_generated_90'\")\n",
    "    base_100 = base.query(\"dataset == 'no_nac_coloring_generated_100'\")\n",
    "    base_110 = base.query(\"dataset == 'no_nac_coloring_generated_110'\")\n",
    "    base_120 = base.query(\"dataset == 'no_nac_coloring_generated_120'\")\n",
    "    base_130 = base.query(\"dataset == 'no_nac_coloring_generated_130'\")\n",
    "    # df = base_40\n",
    "    df = pd.concat([base_40, base_50, base_60, base_70, base_80, base_90, base_100, base_110, base_120, base_130], ignore_index=True)\n",
    "    return df"
   ]
  },
  {
   "cell_type": "code",
   "execution_count": null,
   "metadata": {},
   "outputs": [],
   "source": [
    "if True:\n",
    "    base = df_analytics_no_nac.query(\"merging!='naive-cycles' and merging!='min_max' and merging!='sorted_bits' and split!='neighbors_iterative' and split!='beam_neighbors'\")\n",
    "    df = query_no_nac_coloring_generated(base)\n",
    "    df = drop_outliers(df)\n",
    "    title = 'No NAC-coloring, ▵-connected components'\n",
    "    dataset_name = 'no_nac_coloring_generated'\n",
    "    figs = [fig for fig in plot_frame(\n",
    "        title,\n",
    "        df.query(\"merging != 'sorted_size'\"),\n",
    "        ops_x_column=[\"triangle_components_no\",], # \"vertex_no\",\n",
    "        ops_based_on=[\"split_merging\", \"subgraph_size\",],\n",
    "    )]\n",
    "    [display(fig) for fig in figs]"
   ]
  },
  {
   "cell_type": "markdown",
   "metadata": {},
   "source": [
    "## The number of checks needed\n",
    "\n",
    "This group of graphs compares the number of checks performed by our algorithm and by naive algorithm\n",
    "using either no monochromatic classes, triangle components or monochromatic classes described in the article.\n",
    "\n",
    "Unless you change anything, the result is plotted from the whole benchmarks dataset - all the graphs classes are used.\n",
    "You can add `query(\"dataset == '...'\")` to show the graph for a specific dataset.\n",
    "\n",
    "The number of `IsNACColoring` checks called compared to\n",
    "the naive approach without or with triangle/monochromatic classes.\n",
    "\n",
    "It is expected that the number of `IsNACColoring` checks will be smaller than the `CycleMask` checks as the `CycleMask` checks happen every time, but `IsNACColoring` checks happen only if the previous checks fail."
   ]
  },
  {
   "cell_type": "code",
   "execution_count": null,
   "metadata": {},
   "outputs": [],
   "source": [
    "if True:\n",
    "    [display(fig) for fig in plot_is_NAC_coloring_calls(df_analytics.query(\"split != 'naive-cycles'\"))]"
   ]
  }
 ],
 "metadata": {
  "kernelspec": {
   "display_name": "Python 3 (ipykernel)",
   "language": "python",
   "name": "python3"
  },
  "language_info": {
   "codemirror_mode": {
    "name": "ipython",
    "version": 3
   },
   "file_extension": ".py",
   "mimetype": "text/x-python",
   "name": "python",
   "nbconvert_exporter": "python",
   "pygments_lexer": "ipython3",
   "version": "3.12.8"
  }
 },
 "nbformat": 4,
 "nbformat_minor": 4
}
