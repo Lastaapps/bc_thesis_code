{
 "cells": [
  {
   "cell_type": "markdown",
   "metadata": {},
   "source": [
    "# NAC playground\n",
    "\n",
    "This file can be used to perform minor experiments related to NAC-coloring search.\n",
    "\n",
    "Make sure the `nac` directory is in your working directory, and that you installed `requierements.txt` into your virtual environment."
   ]
  },
  {
   "cell_type": "code",
   "execution_count": null,
   "metadata": {},
   "outputs": [],
   "source": [
    "from typing import *\n",
    "import importlib\n",
    "\n",
    "import pyrigi\n",
    "import nac as nac\n",
    "import nac.util\n",
    "from nac import MonochromaticClassType\n",
    "from benchmarks import dataset\n",
    "importlib.reload(nac)\n",
    "importlib.reload(nac.util)\n",
    "importlib.reload(dataset)\n",
    "\n",
    "seed=42"
   ]
  },
  {
   "cell_type": "code",
   "execution_count": null,
   "metadata": {},
   "outputs": [],
   "source": [
    "class Strategies:\n",
    "    NAIVE = \"naive\"\n",
    "    CYCLES = \"cycles\"\n",
    "    NONE_LINEAR = 'subgraphs-linear-none-6'\n",
    "    NEIGHBORS_LINEAR = 'subgraphs-linear-neighbors-6'\n",
    "    NEIGHBORS_DEGREE_LINEAR = 'subgraphs-linear-neighbors_degree-6'\n",
    "    NEIGHBORS_SHARED_VERTICES = 'subgraphs-shared_vertices-neighbors-6'"
   ]
  },
  {
   "cell_type": "markdown",
   "metadata": {},
   "source": [
    "`pyrigi.graphDB` provides a great collection of graphs useful for testing"
   ]
  },
  {
   "cell_type": "code",
   "execution_count": null,
   "metadata": {},
   "outputs": [],
   "source": [
    "G = pyrigi.graphDB.ThreePrism()"
   ]
  },
  {
   "cell_type": "code",
   "execution_count": null,
   "metadata": {},
   "outputs": [],
   "source": [
    "display(nac.has_NAC_coloring(G))\n",
    "\n",
    "coloring = nac.single_NAC_coloring(G)\n",
    "display(coloring)"
   ]
  },
  {
   "cell_type": "code",
   "execution_count": null,
   "metadata": {},
   "outputs": [],
   "source": [
    "colorings = list(nac.NAC_colorings(\n",
    "    G,\n",
    "    algorithm=Strategies.NEIGHBORS_LINEAR,\n",
    "))\n",
    "display(colorings)"
   ]
  },
  {
   "cell_type": "code",
   "execution_count": null,
   "metadata": {},
   "outputs": [],
   "source": [
    "def with_colors(coloring: nac.NACColoring):\n",
    "    return {\n",
    "        \"red\": coloring[0],\n",
    "        \"blue\": coloring[1],\n",
    "    }"
   ]
  },
  {
   "cell_type": "code",
   "execution_count": null,
   "metadata": {},
   "outputs": [],
   "source": [
    "G.plot(edge_colors_custom=with_colors(coloring))"
   ]
  }
 ],
 "metadata": {
  "kernelspec": {
   "display_name": ".venv",
   "language": "python",
   "name": "python3"
  },
  "language_info": {
   "codemirror_mode": {
    "name": "ipython",
    "version": 3
   },
   "file_extension": ".py",
   "mimetype": "text/x-python",
   "name": "python",
   "nbconvert_exporter": "python",
   "pygments_lexer": "ipython3",
   "version": "3.12.8"
  }
 },
 "nbformat": 4,
 "nbformat_minor": 2
}
